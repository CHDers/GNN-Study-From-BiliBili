{
 "cells": [
  {
   "cell_type": "markdown",
   "metadata": {},
   "source": [
    "# 神经网络的实践"
   ]
  },
  {
   "cell_type": "markdown",
   "metadata": {},
   "source": []
  },
  {
   "cell_type": "markdown",
   "metadata": {},
   "source": [
    "## TensorDataset \n",
    "\n",
    "TensorDataset在PyTorch中是一个非常有用的数据集类,它可以将tensors打包成数据集以供模型训练。\n",
    "\n",
    "可以看到TensorDataset将输入的特征和标签打包成了数据集,可以用于后面的模型训练。\n",
    "\n",
    "它的主要作用有:\n",
    "\n",
    "- 将特征和标签组合成数据集\n",
    "\n",
    "- 支持打包多个tensor,如图像、标签等\n",
    "\n",
    "- 可以索引样例,方便读取\n",
    "\n",
    "- 兼容 DataLoader,可以批量读取\n",
    "\n",
    "TensorDataset使得tensor数据的组织和读取非常简洁高效。"
   ]
  },
  {
   "cell_type": "markdown",
   "metadata": {},
   "source": [
    "## DataLoader\n",
    "\n",
    "在PyTorch中,DataLoader是用于数据读取的重要类,其主要作用和用法示例如下:\n",
    "\n",
    "1. 数据读取\n",
    "\n",
    "DataLoader实现了对Dataset按batch读取,支持多进程读,自动转为GPU等功能:\n",
    "\n",
    "\n",
    "2. 批处理\n",
    "\n",
    "可以指定batch大小,将数据分成批进行读取:\n",
    "\n",
    "\n",
    "3. 随机打乱\n",
    "\n",
    "设置shuffle=True可以按epoch随机打乱数据:\n",
    "\n",
    "4. 多进程加速\n",
    "\n",
    "设置num_workers启动多进程读取数据:\n",
    "\n",
    "5. 样本采样\n",
    "\n",
    "可以通过Sampler自定义从数据集中采样样本:\n",
    "\n",
    "总之,DataLoader提高了数据读取效率,是PyTorch中使用数据集的标准方式。"
   ]
  },
  {
   "cell_type": "code",
   "execution_count": 1,
   "metadata": {},
   "outputs": [],
   "source": [
    "import torch\n",
    "from torch import nn\n",
    "from torch import optim\n",
    "from torch.nn import functional as F\n",
    "from torch.utils.data import TensorDataset\n",
    "from torch.utils.data import DataLoader\n",
    "\n",
    "import torchvision\n",
    "import torchvision.transforms as transforms\n",
    "import matplotlib.pyplot as plt"
   ]
  },
  {
   "cell_type": "code",
   "execution_count": 5,
   "metadata": {},
   "outputs": [],
   "source": [
    "# 初始化特征和标签张量\n",
    "features = torch.randn(100, 5) \n",
    "labels = torch.randint(0, 10, (100,))\n",
    "\n",
    "# 用TensorDataset打包特征和标签\n",
    "dataset = TensorDataset(features, labels)\n",
    "\n",
    "# 创建数据加载器\n",
    "dataloader = DataLoader(dataset, batch_size=8) "
   ]
  },
  {
   "cell_type": "code",
   "execution_count": 6,
   "metadata": {},
   "outputs": [
    {
     "data": {
      "text/plain": [
       "(tensor([ 0.5523,  0.2738,  0.1225, -0.1789, -0.8072]), tensor(2))"
      ]
     },
     "execution_count": 6,
     "metadata": {},
     "output_type": "execute_result"
    }
   ],
   "source": [
    "dataset[0]"
   ]
  },
  {
   "cell_type": "code",
   "execution_count": 4,
   "metadata": {},
   "outputs": [
    {
     "name": "stdout",
     "output_type": "stream",
     "text": [
      "[tensor([[-0.0114, -0.0916,  1.3767, -1.8570,  0.6364],\n",
      "        [ 0.1598, -0.3302,  0.4382,  1.2717,  1.1800],\n",
      "        [-0.5495,  0.5485,  0.0685, -1.4578,  1.5613],\n",
      "        [ 0.6499,  0.0888,  0.5256, -1.2434, -0.4251],\n",
      "        [-1.4292, -0.5635,  0.4385,  0.4239,  0.0719],\n",
      "        [ 0.3692,  0.3452,  0.5108,  0.5149, -0.3104],\n",
      "        [ 0.2049, -1.6116,  0.0566,  0.4828,  0.2168],\n",
      "        [ 0.1305, -1.4151, -0.8409, -0.5174,  1.1110]]), tensor([0, 8, 3, 3, 6, 1, 8, 8])]\n"
     ]
    }
   ],
   "source": [
    "for i in dataloader:\n",
    "    print(i)\n",
    "    break"
   ]
  },
  {
   "cell_type": "code",
   "execution_count": 17,
   "metadata": {},
   "outputs": [
    {
     "data": {
      "text/plain": [
       "tensor([9, 2, 7, 0, 8, 6, 8, 5, 9, 5, 9, 1, 5, 1, 8, 5, 0, 0, 2, 6, 8, 9, 2, 9,\n",
       "        6, 9, 6, 9, 9, 5, 5, 6, 3, 6, 8, 8, 3, 7, 2, 4, 0, 6, 8, 4, 7, 7, 4, 6,\n",
       "        1, 3, 4, 5, 4, 6, 1, 9, 2, 2, 5, 3, 3, 1, 4, 7, 7, 2, 2, 0, 4, 3, 2, 6,\n",
       "        5, 7, 6, 5, 8, 0, 6, 6, 0, 6, 4, 0, 1, 0, 7, 6, 5, 9, 2, 9, 5, 3, 2, 2,\n",
       "        5, 6, 2, 0])"
      ]
     },
     "execution_count": 17,
     "metadata": {},
     "output_type": "execute_result"
    }
   ],
   "source": [
    "torch.randint(0, 10, (100,))"
   ]
  },
  {
   "cell_type": "code",
   "execution_count": 8,
   "metadata": {},
   "outputs": [],
   "source": [
    "y = torch.randint(low=0,high=3,size=(500,1),dtype=torch.float32)"
   ]
  },
  {
   "cell_type": "markdown",
   "metadata": {},
   "source": [
    "## 多分类，二分类与回归的问题切换\n",
    "\n",
    "nn.MSELoss()\n",
    "\n",
    "nn.BCEWithLogitsLoss()"
   ]
  },
  {
   "cell_type": "code",
   "execution_count": 16,
   "metadata": {},
   "outputs": [],
   "source": [
    "#定义神经网路的架构\n",
    "class Model(nn.Module):\n",
    "    def __init__(self,in_features=10,out_features=2):\n",
    "        super(Model,self).__init__() #super(请查找这个类的父类，请使用找到的父类替换现在的类)\n",
    "        self.linear1 = nn.Linear(in_features,50,bias=True) #输入层不用写，这里是隐藏层的第一层\n",
    "        self.linear2 = nn.Linear(50,20,bias=True)\n",
    "        self.output = nn.Linear(20,out_features,bias=True)\n",
    "\n",
    "    def forward(self, x):\n",
    "        z1 = self.linear1(x)\n",
    "        z1_relu = torch.relu(z1)\n",
    "        z2 = self.linear2(z1_relu)\n",
    "        z2_relu = torch.relu(z2)\n",
    "        z3 = self.output(z2_relu)\n",
    "        #sigma3 = F.softmax(z3,dim=1)\n",
    "        return z3\n",
    "#实例化神经网络，调用优化算法需要的参数\n"
   ]
  },
  {
   "cell_type": "code",
   "execution_count": 17,
   "metadata": {},
   "outputs": [],
   "source": [
    "#确定数据、确定优先需要设置的值\n",
    "lr = 0.1\n",
    "gamma = 0.9\n",
    "epochs=5\n",
    "bs=50\n",
    "\n",
    "torch.manual_seed(420)\n",
    "X = torch.rand((500,20),dtype=torch.float32)\n",
    "Y= torch.randint(low=0,high=3,size=(500,1),dtype=torch.float32)\n",
    "\n",
    "data = TensorDataset(X,Y)\n",
    "batchdata = DataLoader(data, batch_size=bs, shuffle = True)\n",
    "\n",
    "input_ = X.shape[1] #特征的数目\n",
    "output_ = len(Y.unique()) #分类的数目\n",
    "\n",
    "torch.manual_seed(420)\n",
    "net = Model(in_features=input_, out_features=output_)\n",
    "criterion = nn.CrossEntropyLoss()\n",
    "opt = optim.SGD(net.parameters() , lr=lr , momentum = gamma) #动量参数"
   ]
  },
  {
   "cell_type": "code",
   "execution_count": 12,
   "metadata": {},
   "outputs": [],
   "source": [
    "#Y.view(X.shape[0]).long()"
   ]
  },
  {
   "cell_type": "code",
   "execution_count": 18,
   "metadata": {},
   "outputs": [
    {
     "name": "stdout",
     "output_type": "stream",
     "text": [
      "epoch:0 , loss:1.0957516431808472\n",
      "epoch:0 , loss:1.1143020391464233\n",
      "epoch:0 , loss:1.1196856498718262\n",
      "epoch:0 , loss:1.094942569732666\n",
      "epoch:0 , loss:1.0956664085388184\n",
      "epoch:0 , loss:1.0987811088562012\n",
      "epoch:0 , loss:1.0922518968582153\n",
      "epoch:0 , loss:1.101608395576477\n",
      "epoch:0 , loss:1.0952848196029663\n",
      "epoch:0 , loss:1.1202633380889893\n",
      "epoch:1 , loss:1.0993648767471313\n",
      "epoch:1 , loss:1.0835442543029785\n",
      "epoch:1 , loss:1.1072036027908325\n",
      "epoch:1 , loss:1.0957679748535156\n",
      "epoch:1 , loss:1.0953600406646729\n",
      "epoch:1 , loss:1.0984840393066406\n",
      "epoch:1 , loss:1.1009411811828613\n",
      "epoch:1 , loss:1.0960891246795654\n",
      "epoch:1 , loss:1.1040639877319336\n",
      "epoch:1 , loss:1.0937711000442505\n",
      "epoch:2 , loss:1.1071516275405884\n",
      "epoch:2 , loss:1.0898280143737793\n",
      "epoch:2 , loss:1.0876266956329346\n",
      "epoch:2 , loss:1.1013351678848267\n",
      "epoch:2 , loss:1.087397813796997\n",
      "epoch:2 , loss:1.0829508304595947\n",
      "epoch:2 , loss:1.1102570295333862\n",
      "epoch:2 , loss:1.1041171550750732\n",
      "epoch:2 , loss:1.107223391532898\n",
      "epoch:2 , loss:1.0949138402938843\n",
      "epoch:3 , loss:1.0810829401016235\n",
      "epoch:3 , loss:1.0818899869918823\n",
      "epoch:3 , loss:1.091726541519165\n",
      "epoch:3 , loss:1.0916234254837036\n",
      "epoch:3 , loss:1.0867525339126587\n",
      "epoch:3 , loss:1.099226951599121\n",
      "epoch:3 , loss:1.0857096910476685\n",
      "epoch:3 , loss:1.0940146446228027\n",
      "epoch:3 , loss:1.093887209892273\n",
      "epoch:3 , loss:1.1105033159255981\n",
      "epoch:4 , loss:1.1154266595840454\n",
      "epoch:4 , loss:1.0871334075927734\n",
      "epoch:4 , loss:1.0580840110778809\n",
      "epoch:4 , loss:1.1201266050338745\n",
      "epoch:4 , loss:1.1135869026184082\n",
      "epoch:4 , loss:1.0984891653060913\n",
      "epoch:4 , loss:1.0750253200531006\n",
      "epoch:4 , loss:1.0807818174362183\n",
      "epoch:4 , loss:1.0894041061401367\n",
      "epoch:4 , loss:1.118432879447937\n"
     ]
    }
   ],
   "source": [
    "for i in range(epochs):\n",
    "    for batch_idx, (x,y) in enumerate(batchdata):\n",
    "        #print(x,y)\n",
    "        y = y.view(x.shape[0]).long()\n",
    "        z1 = net.forward(x)\n",
    "        loss = criterion(z1,y)\n",
    "        opt.zero_grad()\n",
    "        loss.backward()\n",
    "        opt.step()\n",
    "        #if batch_idx % 10 == 0:\n",
    "        print(\"epoch:{} , loss:{}\".format(i,loss))"
   ]
  },
  {
   "cell_type": "markdown",
   "metadata": {},
   "source": [
    "# 基于真实数据的神经网络模型构建\n",
    "\n",
    "torch.max(sigma,1)[1]\n",
    "\n",
    "torch.sum(r1 == y)\n",
    "\n",
    "x.view(-1, 28*28)"
   ]
  },
  {
   "cell_type": "code",
   "execution_count": 26,
   "metadata": {},
   "outputs": [],
   "source": [
    "mnist = torchvision.datasets.FashionMNIST(root='H:\\data\\FashionMNIST', train=True, download=True, transform=transforms.ToTensor())"
   ]
  },
  {
   "cell_type": "code",
   "execution_count": 69,
   "metadata": {},
   "outputs": [
    {
     "data": {
      "text/plain": [
       "Dataset FashionMNIST\n",
       "    Number of datapoints: 60000\n",
       "    Root location: H:\\data\\FashionMNIST\n",
       "    Split: Train\n",
       "    StandardTransform\n",
       "Transform: ToTensor()"
      ]
     },
     "execution_count": 69,
     "metadata": {},
     "output_type": "execute_result"
    }
   ],
   "source": [
    "mnist"
   ]
  },
  {
   "cell_type": "code",
   "execution_count": 70,
   "metadata": {},
   "outputs": [
    {
     "data": {
      "text/plain": [
       "<matplotlib.image.AxesImage at 0x2dc3f0199a0>"
      ]
     },
     "execution_count": 70,
     "metadata": {},
     "output_type": "execute_result"
    },
    {
     "data": {
      "image/png": "[encoded data removed]",
      "text/plain": [
       "<Figure size 640x480 with 1 Axes>"
      ]
     },
     "metadata": {},
     "output_type": "display_data"
    }
   ],
   "source": [
    "plt.imshow(mnist[0][0].view((28, 28)).numpy())"
   ]
  },
  {
   "cell_type": "code",
   "execution_count": 52,
   "metadata": {},
   "outputs": [
    {
     "data": {
      "text/plain": [
       "torch.Size([60000, 28, 28])"
      ]
     },
     "execution_count": 52,
     "metadata": {},
     "output_type": "execute_result"
    }
   ],
   "source": [
    "mnist.targets\n",
    "mnist.data.shape\n",
    "#mnist[0][0].view(-1, 28*28)"
   ]
  },
  {
   "cell_type": "code",
   "execution_count": 49,
   "metadata": {},
   "outputs": [],
   "source": [
    "#定义神经网路的架构\n",
    "class Model_mnist(nn.Module):\n",
    "    def __init__(self,in_features=10,out_features=2):\n",
    "        super().__init__() \n",
    "        self.linear1 = nn.Linear(in_features,128)\n",
    "        self.output = nn.Linear(128,out_features)\n",
    "\n",
    "    def forward(self, x):\n",
    "        x = x.view(-1, 28*28)\n",
    "        sigma1 = torch.relu(self.linear1(x))\n",
    "        z2 = self.output(sigma1)\n",
    "        return z2"
   ]
  },
  {
   "cell_type": "code",
   "execution_count": 36,
   "metadata": {},
   "outputs": [],
   "source": [
    "#mnist[0][0]"
   ]
  },
  {
   "cell_type": "code",
   "execution_count": 41,
   "metadata": {},
   "outputs": [
    {
     "data": {
      "text/plain": [
       "torch.Size([28, 28])"
      ]
     },
     "execution_count": 41,
     "metadata": {},
     "output_type": "execute_result"
    }
   ],
   "source": [
    "mnist.data[0].shape"
   ]
  },
  {
   "cell_type": "code",
   "execution_count": 42,
   "metadata": {},
   "outputs": [
    {
     "data": {
      "text/plain": [
       "784"
      ]
     },
     "execution_count": 42,
     "metadata": {},
     "output_type": "execute_result"
    }
   ],
   "source": [
    "28*28"
   ]
  },
  {
   "cell_type": "code",
   "execution_count": 78,
   "metadata": {},
   "outputs": [],
   "source": [
    "#mnist.data[0]"
   ]
  }
 ],
 "metadata": {
  "kernelspec": {
   "display_name": "Python 3 (ipykernel)",
   "language": "python",
   "name": "python3"
  },
  "language_info": {
   "codemirror_mode": {
    "name": "ipython",
    "version": 3
   },
   "file_extension": ".py",
   "mimetype": "text/x-python",
   "name": "python",
   "nbconvert_exporter": "python",
   "pygments_lexer": "ipython3",
   "version": "3.9.16"
  }
 },
 "nbformat": 4,
 "nbformat_minor": 2
}
