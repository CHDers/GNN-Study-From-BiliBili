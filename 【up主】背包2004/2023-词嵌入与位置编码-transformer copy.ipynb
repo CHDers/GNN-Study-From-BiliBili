{
 "cells": [
  {
   "cell_type": "markdown",
   "metadata": {},
   "source": [
    "# transformer-自然语言处理\n",
    "\n",
    "Transformer是近年来自然语言处理中非常重要的注意力机制模型,其基本原理及应用场景可以概括如下:\n",
    "\n",
    "1. 原理\n",
    "\n",
    "Transformer由编码器(Encoder)和解码器(Decoder)组成。主要的改进是完全利用注意力机制来捕捉词语之间的依赖关系,取代了RNN/CNN结构。\n",
    "\n",
    "Transformer的注意力机制允许模型学习词语之间的远程依赖关系。同时,Transformer也使用残差连接和层规范化来提升训练速度。\n",
    "\n",
    "2. 应用场景\n",
    "\n",
    "Transformer最初是作为神经机器翻译模型而提出,后来被证明在多个自然语言处理任务上都有出色表现。\n",
    "\n",
    "主要的应用场景包括:\n",
    "\n",
    "- 机器翻译:Transformer可以更好地建模长句子的语法结构。\n",
    "\n",
    "- 文本摘要:通过Encoder-Decoder结构进行抽象式文本摘要。\n",
    "\n",
    "- 语音识别:将语音信号转换为文本标注信息。\n",
    "\n",
    "- 自然语言推断:通过语义匹配判定文本之间的逻辑关系。\n",
    "\n",
    "- 问答系统:可以注意到问题和文档之间的语义匹配关系。\n",
    "\n",
    "综上,Transformer通过其高效的注意力机制,在多种自然语言处理任务上都表现优异,已成为该领域的主流模型。\n",
    "\n",
    "https://blog.csdn.net/qq_52785473/article/details/124537101\n",
    "\n",
    "https://blog.csdn.net/Datawhale/article/details/120320116"
   ]
  },
  {
   "cell_type": "code",
   "execution_count": 10,
   "metadata": {},
   "outputs": [
    {
     "data": {
      "text/html": [
       "<img src=\"28.png\" width=\"400\"/>"
      ],
      "text/plain": [
       "<IPython.core.display.Image object>"
      ]
     },
     "execution_count": 10,
     "metadata": {},
     "output_type": "execute_result"
    }
   ],
   "source": [
    "from IPython.display import Image\n",
    "Image(url= \"28.png\",width=400)"
   ]
  },
  {
   "cell_type": "code",
   "execution_count": 9,
   "metadata": {},
   "outputs": [
    {
     "data": {
      "text/html": [
       "<img src=\"29.png\" width=\"500\"/>"
      ],
      "text/plain": [
       "<IPython.core.display.Image object>"
      ]
     },
     "execution_count": 9,
     "metadata": {},
     "output_type": "execute_result"
    }
   ],
   "source": [
    "Image(url= \"29.png\",width=500)"
   ]
  },
  {
   "cell_type": "markdown",
   "metadata": {},
   "source": [
    "# 词嵌入\n",
    "\n",
    "## 独热编码(one-hot encoding)\n",
    "\n",
    "在机器学习任务中,类别特征通常需要转换为独热编码(one-hot encoding)进行模型输入,主要有以下两个原因:\n",
    "\n",
    "1. 避免假定类别顺序。直接将类别特征用数字编码(比如0,1,2)会假定类别之间有大小顺序关系,而实际上类别仅仅是不同的类型,之间并无大小顺序可言。\n",
    "\n",
    "2. 线性可分。多分类任务需要模型输出维度等于类别数,而独热编码可以将类别扩展为一个个0/1的特征维度,使不同类别成为线性可分的。\n",
    "\n",
    "具体来说,对于一个有N个类别的特征,使用独热编码将其转换为一个N维0/1向量,其中类别的索引位置为1,其他位置为0。\n",
    "\n",
    "比如对颜色特征[\"红\",\"绿\",\"蓝\"]使用独热编码,可以将其转换为:\n",
    "\n",
    "红 -> [1, 0, 0] \n",
    "\n",
    "绿 -> [0, 1, 0]\n",
    "\n",
    "蓝 -> [0, 0, 1]\n",
    "\n",
    "这样模型就能够区分不同颜色,而不会对颜色顺序进行假设。因此,独热编码常用于处理机器学习模型中的类别特征。"
   ]
  },
  {
   "cell_type": "code",
   "execution_count": 5,
   "metadata": {},
   "outputs": [
    {
     "data": {
      "text/html": [
       "<div>\n",
       "<style scoped>\n",
       "    .dataframe tbody tr th:only-of-type {\n",
       "        vertical-align: middle;\n",
       "    }\n",
       "\n",
       "    .dataframe tbody tr th {\n",
       "        vertical-align: top;\n",
       "    }\n",
       "\n",
       "    .dataframe thead th {\n",
       "        text-align: right;\n",
       "    }\n",
       "</style>\n",
       "<table border=\"1\" class=\"dataframe\">\n",
       "  <thead>\n",
       "    <tr style=\"text-align: right;\">\n",
       "      <th></th>\n",
       "      <th>color</th>\n",
       "      <th>make</th>\n",
       "      <th>year</th>\n",
       "    </tr>\n",
       "  </thead>\n",
       "  <tbody>\n",
       "    <tr>\n",
       "      <th>0</th>\n",
       "      <td>green</td>\n",
       "      <td>Chevrolet</td>\n",
       "      <td>2017</td>\n",
       "    </tr>\n",
       "    <tr>\n",
       "      <th>1</th>\n",
       "      <td>blue</td>\n",
       "      <td>BMW</td>\n",
       "      <td>2015</td>\n",
       "    </tr>\n",
       "    <tr>\n",
       "      <th>2</th>\n",
       "      <td>yellow</td>\n",
       "      <td>Lexus</td>\n",
       "      <td>2018</td>\n",
       "    </tr>\n",
       "  </tbody>\n",
       "</table>\n",
       "</div>"
      ],
      "text/plain": [
       "    color       make  year\n",
       "0   green  Chevrolet  2017\n",
       "1    blue        BMW  2015\n",
       "2  yellow      Lexus  2018"
      ]
     },
     "execution_count": 5,
     "metadata": {},
     "output_type": "execute_result"
    }
   ],
   "source": [
    "import pandas as pd\n",
    "\n",
    "df = pd.DataFrame([\n",
    "    ['green', 'Chevrolet', 2017],\n",
    "    ['blue', 'BMW', 2015],\n",
    "    ['yellow', 'Lexus', 2018],\n",
    "])\n",
    "df.columns = ['color', 'make', 'year']\n",
    "df"
   ]
  },
  {
   "cell_type": "code",
   "execution_count": 3,
   "metadata": {},
   "outputs": [
    {
     "data": {
      "text/html": [
       "<div>\n",
       "<style scoped>\n",
       "    .dataframe tbody tr th:only-of-type {\n",
       "        vertical-align: middle;\n",
       "    }\n",
       "\n",
       "    .dataframe tbody tr th {\n",
       "        vertical-align: top;\n",
       "    }\n",
       "\n",
       "    .dataframe thead th {\n",
       "        text-align: right;\n",
       "    }\n",
       "</style>\n",
       "<table border=\"1\" class=\"dataframe\">\n",
       "  <thead>\n",
       "    <tr style=\"text-align: right;\">\n",
       "      <th></th>\n",
       "      <th>year</th>\n",
       "      <th>color_blue</th>\n",
       "      <th>color_green</th>\n",
       "      <th>color_yellow</th>\n",
       "      <th>make_BMW</th>\n",
       "      <th>make_Chevrolet</th>\n",
       "      <th>make_Lexus</th>\n",
       "    </tr>\n",
       "  </thead>\n",
       "  <tbody>\n",
       "    <tr>\n",
       "      <th>0</th>\n",
       "      <td>2017</td>\n",
       "      <td>0</td>\n",
       "      <td>1</td>\n",
       "      <td>0</td>\n",
       "      <td>0</td>\n",
       "      <td>1</td>\n",
       "      <td>0</td>\n",
       "    </tr>\n",
       "    <tr>\n",
       "      <th>1</th>\n",
       "      <td>2015</td>\n",
       "      <td>1</td>\n",
       "      <td>0</td>\n",
       "      <td>0</td>\n",
       "      <td>1</td>\n",
       "      <td>0</td>\n",
       "      <td>0</td>\n",
       "    </tr>\n",
       "    <tr>\n",
       "      <th>2</th>\n",
       "      <td>2018</td>\n",
       "      <td>0</td>\n",
       "      <td>0</td>\n",
       "      <td>1</td>\n",
       "      <td>0</td>\n",
       "      <td>0</td>\n",
       "      <td>1</td>\n",
       "    </tr>\n",
       "  </tbody>\n",
       "</table>\n",
       "</div>"
      ],
      "text/plain": [
       "   year  color_blue  color_green  color_yellow  make_BMW  make_Chevrolet  \\\n",
       "0  2017           0            1             0         0               1   \n",
       "1  2015           1            0             0         1               0   \n",
       "2  2018           0            0             1         0               0   \n",
       "\n",
       "   make_Lexus  \n",
       "0           0  \n",
       "1           0  \n",
       "2           1  "
      ]
     },
     "execution_count": 3,
     "metadata": {},
     "output_type": "execute_result"
    }
   ],
   "source": [
    "df_processed = pd.get_dummies(df, columns=['color', 'make'] ,dtype=int)\n",
    "df_processed"
   ]
  },
  {
   "cell_type": "code",
   "execution_count": null,
   "metadata": {},
   "outputs": [],
   "source": []
  },
  {
   "cell_type": "markdown",
   "metadata": {},
   "source": [
    "## 自然语言处理的主要任务\n",
    "\n",
    "自然语言处理的主要任务包括:\n",
    "\n",
    "1. 文本分类:将文本划分到预定义的类别中,如情感分析、新闻分类等。常用方法有SVM、CNN、RNN等。\n",
    "\n",
    "2. 名实体识别(NER):识别文本中的名实体,如人名、地名、组织名等。通常把它作为序列标注问题来解决。\n",
    "\n",
    "3. 语言模型:给出前面的词序列,预测下一个词的概率。语言模型可应用于机器翻译、语音识别等任务。\n",
    "\n",
    "4. 文本生成:根据输入信息自动生成文本,如机器翻译、对话系统、文本摘要等。\n",
    "\n",
    "5. 信息抽取:从非结构化文本中提取结构化信息,如关系抽取、事件抽取等。\n",
    "\n",
    "6. 文本相似性:计算两个文本语义的相似程度,应用在相似文档检索等任务上。\n",
    "\n",
    "7. 问答系统:接收用户问题并从知识库中搜索答案,如聊天机器人。\n",
    "\n",
    "8. 篇章分析:分析文本的语法结构、核心词等要素,以获取文本的深层含义。\n",
    "\n",
    "9. 情感分析:判断一段文本所表达的情绪态度,即正面还是否定面。\n",
    "\n",
    "以上是自然语言处理的典型任务,还有语音识别、机器翻译等也属于该领域。实际应用中往往会集成多个技术来解决问题。\n",
    "\n",
    "## 词嵌入(word embedding)\n",
    "\n",
    "词嵌入(word embedding)是自然语言处理中的一个重要技术,它的思想是将词映射到一个连续的低维向量空间中,使得语义相似的词在这个空间中距离较近。\n",
    "\n",
    "https://pytorch.org/tutorials/beginner/nlp/word_embeddings_tutorial.html\n",
    "\n",
    "https://blog.csdn.net/raelum/article/details/125462028\n",
    "\n",
    "\n",
    "## pytorch 中的词嵌入nn.Embedding\n",
    "\n",
    "nn.Embedding和nn.Linear都是PyTorch中常用的层,两者的主要区别是:\n",
    "\n",
    "1. nn.Embedding用于处理离散特征,nn.Linear用于处理连续特征。\n",
    "\n",
    "2. nn.Embedding将整数索引映射到固定维度的稠密向量,nn.Linear将输入数据映射到输出维度。\n",
    "\n",
    "3. nn.Embedding输出维度由嵌入矩阵定义,nn.Linear输出维度由Linear层参数定义。\n",
    "\n",
    "4. nn.Embedding输入一般是词索引,nn.Linear输入可以是任意形状张量。\n",
    "\n",
    "上面例子展示了nn.Embedding和nn.Linear的不同之处:前者处理离散特征获得到词向量,后者用于连续特征的线性映射。两者在自然语言处理任务中经常联合使用。\n",
    "\n"
   ]
  },
  {
   "cell_type": "code",
   "execution_count": 6,
   "metadata": {},
   "outputs": [
    {
     "data": {
      "text/html": [
       "<img src=\"25.png\" width=\"400\"/>"
      ],
      "text/plain": [
       "<IPython.core.display.Image object>"
      ]
     },
     "execution_count": 6,
     "metadata": {},
     "output_type": "execute_result"
    }
   ],
   "source": [
    "\n",
    "Image(url= \"25.png\",width=400)"
   ]
  },
  {
   "cell_type": "code",
   "execution_count": 44,
   "metadata": {},
   "outputs": [
    {
     "data": {
      "text/html": [
       "<img src=\"24.webp\" width=\"500\"/>"
      ],
      "text/plain": [
       "<IPython.core.display.Image object>"
      ]
     },
     "execution_count": 44,
     "metadata": {},
     "output_type": "execute_result"
    }
   ],
   "source": [
    "Image(url= \"24.webp\",width=500)"
   ]
  },
  {
   "cell_type": "code",
   "execution_count": 13,
   "metadata": {},
   "outputs": [
    {
     "data": {
      "text/html": [
       "<img src=\"30.jpg\" width=\"800\"/>"
      ],
      "text/plain": [
       "<IPython.core.display.Image object>"
      ]
     },
     "execution_count": 13,
     "metadata": {},
     "output_type": "execute_result"
    }
   ],
   "source": [
    "Image(url= \"30.jpg\",width=800)"
   ]
  },
  {
   "cell_type": "code",
   "execution_count": 3,
   "metadata": {},
   "outputs": [],
   "source": [
    "import torch\n",
    "import torch.nn as nn\n",
    "import torch.nn.functional as F\n",
    "import torch.optim as optim\n",
    "\n",
    "import math\n",
    "from torch.autograd import Variable\n",
    "import matplotlib.pyplot as plt\n",
    "import numpy as np\n",
    "import copy"
   ]
  },
  {
   "cell_type": "code",
   "execution_count": 9,
   "metadata": {},
   "outputs": [],
   "source": [
    "# nn.Embedding\n",
    "embed = nn.Embedding(10, 64) # 10个词,embedding维度64 \n",
    "input = torch.LongTensor([1,5,8]) # 输入词索引\n",
    "embed_vector = embed(input) # 将词索引映射为词向量\n",
    "\n",
    "# nn.Linear \n",
    "fc = nn.Linear(32, 10) # 输入维度32,输出维度10\n",
    "input = torch.randn(8, 32) # 8个32维输入 \n",
    "output = fc(input) # 全连接层映射到10维输出"
   ]
  },
  {
   "cell_type": "markdown",
   "metadata": {},
   "source": [
    "* 简单实现（在torch中并没有用独热，而是通过位置与nn.Embedding特殊的机制实现了类似独热的效果）"
   ]
  },
  {
   "cell_type": "code",
   "execution_count": 32,
   "metadata": {},
   "outputs": [
    {
     "name": "stdout",
     "output_type": "stream",
     "text": [
      "tensor([[ 1.5719, -1.1032,  0.6363, -1.1446, -0.7449]],\n",
      "       grad_fn=<EmbeddingBackward0>)\n"
     ]
    }
   ],
   "source": [
    "word_to_ix = {\"hello\": 0, \"world\": 1}\n",
    "embeds = nn.Embedding(2, 5)  # 2 words in vocab, 5 dimensional embeddings\n",
    "lookup_tensor = torch.tensor([word_to_ix[\"hello\"]], dtype=torch.long)\n",
    "hello_embed = embeds(lookup_tensor)\n",
    "print(hello_embed)"
   ]
  },
  {
   "cell_type": "code",
   "execution_count": 33,
   "metadata": {},
   "outputs": [
    {
     "data": {
      "text/plain": [
       "Parameter containing:\n",
       "tensor([[ 1.5719, -1.1032,  0.6363, -1.1446, -0.7449],\n",
       "        [-1.3902,  0.4242, -0.8732,  1.0635, -0.1250]], requires_grad=True)"
      ]
     },
     "execution_count": 33,
     "metadata": {},
     "output_type": "execute_result"
    }
   ],
   "source": [
    "embeds.weight"
   ]
  },
  {
   "cell_type": "markdown",
   "metadata": {},
   "source": [
    "* transformer中的实现\n",
    "\n",
    "https://blog.csdn.net/qq_52785473/article/details/124537101"
   ]
  },
  {
   "cell_type": "code",
   "execution_count": 2,
   "metadata": {},
   "outputs": [],
   "source": [
    "class Embeddings(nn.Module):\n",
    "    def __init__(self, d_model, vocab):\n",
    "    # d_model:词嵌入维度\n",
    "    # vocab:字典大小\n",
    "        super(Embeddings, self).__init__()\n",
    "        self.lut = nn.Embedding(vocab, d_model)\n",
    "        self.d_model = d_model\n",
    "    def forward(self, x):\n",
    "        return self.lut(x) * math.sqrt(self.d_model)\n"
   ]
  },
  {
   "cell_type": "code",
   "execution_count": 3,
   "metadata": {},
   "outputs": [
    {
     "name": "stdout",
     "output_type": "stream",
     "text": [
      "torch.Size([2, 4, 512])\n"
     ]
    }
   ],
   "source": [
    "d_model = 512  # embedding_size\n",
    "vocab = 1000  # 词典大小\n",
    "x=torch.tensor([[100, 2, 421, 508], [491, 998, 1, 221]], dtype=torch.long)\n",
    "emb = Embeddings(d_model, vocab)\n",
    "embr = emb(x)\n",
    "print(embr.shape)\n"
   ]
  },
  {
   "cell_type": "code",
   "execution_count": 17,
   "metadata": {},
   "outputs": [
    {
     "data": {
      "text/plain": [
       "tensor([[[ 15.7212,   4.3630, -33.6761,  ...,  -0.7592, -13.7363,  11.5903],\n",
       "         [ 12.0749,  10.4128, -10.1933,  ...,  34.7949,  -3.0311,  17.0476],\n",
       "         [  0.6647,  20.0967,   9.4181,  ...,  48.3645,  -0.1343,  26.2912],\n",
       "         [-35.6708,  15.1472, -10.3006,  ...,   3.2073, -56.4983,  -1.2893]],\n",
       "\n",
       "        [[-31.4328, -15.9547,  15.4086,  ...,  30.6488, -15.2330,  -2.4861],\n",
       "         [ 64.8109,   2.7769, -44.1796,  ...,   9.1904,   8.7161,  -3.3016],\n",
       "         [-28.0984,  26.3967, -23.8661,  ...,   1.1219, -28.1064,  46.9230],\n",
       "         [  0.7738,  -6.5431,  -9.1307,  ...,  21.3106, -16.5163,  17.5139]]],\n",
       "       grad_fn=<MulBackward0>)"
      ]
     },
     "execution_count": 17,
     "metadata": {},
     "output_type": "execute_result"
    }
   ],
   "source": [
    "embr"
   ]
  },
  {
   "cell_type": "code",
   "execution_count": 1,
   "metadata": {},
   "outputs": [],
   "source": [
    "#已知如下语料,给出其词嵌入\n",
    "corpus = [\"he is an old worker\", \"english is a useful tool\", \"the cinema is far away\"]"
   ]
  },
  {
   "cell_type": "code",
   "execution_count": null,
   "metadata": {},
   "outputs": [],
   "source": []
  },
  {
   "cell_type": "code",
   "execution_count": null,
   "metadata": {},
   "outputs": [],
   "source": []
  },
  {
   "cell_type": "markdown",
   "metadata": {},
   "source": [
    "## 语言模型\n",
    "\n",
    "词嵌入的基本原理是使用神经网络模型学习词与词之间的关系,常见的模型有连续词袋模型(CBOW)和跳过语рам模型(skip-gram)。这些模型的目标是最大化一个词的上下文词出现的概率。\n",
    "\n",
    "## N-gram语言模型\n",
    "\n",
    "N-gram语言模型是自然语言处理中一种重要的语言模型,它通过计算语言序列中连续N个词的联合概率来建模语言。\n",
    "\n",
    "具体来说,N-gram模型假设词的出现只与前N-1个词相关。例如,在双gram(N=2)模型中,词$w_i$的条件概率可以表示为:\n",
    "\n",
    "$P(w_i|w_{i-1})$\n",
    "\n",
    "在trigram(N=3)模型中,词$w_i$的条件概率为:\n",
    "\n",
    "$P(w_i|w_{i-1},w_{i-2})$ \n",
    "\n",
    "一般地,N-gram模型中词$w_i$的条件概率为:\n",
    "\n",
    "$P(w_i|w_{i-1},...,w_{i-N+1})$\n",
    "\n",
    "根据链式法则,语言序列中所有词连乘的联合概率可以表示为:\n",
    "\n",
    "$P(w_1, ..., w_M) = \\prod_{i=1}^{M} P(w_i|w_{i-1},...,w_{i-N+1})$\n",
    "\n",
    "其中M是词序列长度。\n",
    "\n",
    "N-gram模型通过统计语料中N个词共现的频率来估计条件概率$P(w_i|w_{i-1},...,w_{i-N+1})$。通常采用最大似然估计或平滑技巧来解决数据稀疏性问题。\n",
    "\n",
    "N-gram建模简单易实现,可有效模拟语言局部词序列模式。但无法捕捉长距离依赖关系。"
   ]
  },
  {
   "cell_type": "code",
   "execution_count": 7,
   "metadata": {},
   "outputs": [
    {
     "name": "stdout",
     "output_type": "stream",
     "text": [
      "[(['forty', 'When'], 'winters'), (['winters', 'forty'], 'shall'), (['shall', 'winters'], 'besiege')]\n"
     ]
    }
   ],
   "source": [
    "CONTEXT_SIZE = 2\n",
    "EMBEDDING_DIM = 10\n",
    "torch.manual_seed(1)\n",
    "# We will use Shakespeare Sonnet 2\n",
    "test_sentence = \"\"\"When forty winters shall besiege thy brow,\n",
    "And dig deep trenches in thy beauty's field,\n",
    "Thy youth's proud livery so gazed on now,\n",
    "Will be a totter'd weed of small worth held:\n",
    "Then being asked, where all thy beauty lies,\n",
    "Where all the treasure of thy lusty days;\n",
    "To say, within thine own deep sunken eyes,\n",
    "Were an all-eating shame, and thriftless praise.\n",
    "How much more praise deserv'd thy beauty's use,\n",
    "If thou couldst answer 'This fair child of mine\n",
    "Shall sum my count, and make my old excuse,'\n",
    "Proving his beauty by succession thine!\n",
    "This were to be new made when thou art old,\n",
    "And see thy blood warm when thou feel'st it cold.\"\"\".split()\n",
    "# we should tokenize the input, but we will ignore that for now\n",
    "# build a list of tuples.\n",
    "# Each tuple is ([ word_i-CONTEXT_SIZE, ..., word_i-1 ], target word)\n",
    "ngrams = [\n",
    "    (\n",
    "        [test_sentence[i - j - 1] for j in range(CONTEXT_SIZE)],\n",
    "        test_sentence[i]\n",
    "    )\n",
    "    for i in range(CONTEXT_SIZE, len(test_sentence))\n",
    "]\n",
    "# Print the first 3, just so you can see what they look like.\n",
    "print(ngrams[:3])\n",
    "\n",
    "vocab = set(test_sentence)\n",
    "word_to_ix = {word: i for i, word in enumerate(vocab)}\n",
    "\n",
    "\n",
    "class NGramLanguageModeler(nn.Module):\n",
    "\n",
    "    def __init__(self, vocab_size, embedding_dim, context_size):\n",
    "        super(NGramLanguageModeler, self).__init__()\n",
    "        self.embeddings = nn.Embedding(vocab_size, embedding_dim)\n",
    "        self.linear1 = nn.Linear(context_size * embedding_dim, 128)\n",
    "        self.linear2 = nn.Linear(128, vocab_size)\n",
    "\n",
    "    def forward(self, inputs):\n",
    "        embeds = self.embeddings(inputs).view((1, -1))\n",
    "        out = F.relu(self.linear1(embeds))\n",
    "        out = self.linear2(out)\n",
    "        log_probs = F.log_softmax(out, dim=1)\n",
    "        return log_probs\n",
    "\n",
    "loss_function = nn.NLLLoss()\n"
   ]
  },
  {
   "cell_type": "markdown",
   "metadata": {},
   "source": [
    "## CBOW(Continuous Bag of Words)和skip-gram\n",
    "\n",
    "CBOW(Continuous Bag of Words)和skip-gram都是词向量训练算法,两者的主要区别如下:\n",
    "\n",
    "**CBOW**\n",
    "\n",
    "- 输入是上下文词,预测目标词\n",
    "- 输入层到隐层投影是一个连续的词袋(不区分词顺序)\n",
    "- 目标是根据上下文词预测当前词\n",
    "\n",
    "**skip-gram**\n",
    "\n",
    "- 输入是中心词,预测上下文词 \n",
    "- 从输入词向量映射到输出词向量 \n",
    "- 目标是通过当前词预测上下文\n",
    "\n",
    "具体来说:\n",
    "\n",
    "**CBOW**  \n",
    "\n",
    "给定一个词序列(w1, w2, w3, ..., wT),CBOW 的目标是最大化给定上下文词预测当前词wt的概率:\n",
    "\n",
    "P(wt | wt-k, ..., wt+k)\n",
    "\n",
    "其中wt-k,...,wt+k为wt的上下文词窗口。\n",
    "\n",
    "**skip-gram**\n",
    "\n",
    "给定一个词序列(w1, w2, w3, ..., wT),skip-gram 的目标是最大化通过当前词wt预测上下文词wj的概率:\n",
    "\n",
    "P(wj | wt) \n",
    "\n",
    "其中wj为wt的上下文词。\n",
    "\n",
    "CBOW 通过上下文词预测当前词,更关注上下文的语义信息。skip-gram 通过当前词预测上下文,更关注中心词的语义信息。两者分别从不同方面学到词向量的语义信息。"
   ]
  },
  {
   "cell_type": "code",
   "execution_count": 19,
   "metadata": {},
   "outputs": [
    {
     "data": {
      "text/html": [
       "<img src=\"27.png\" width=\"800\"/>"
      ],
      "text/plain": [
       "<IPython.core.display.Image object>"
      ]
     },
     "execution_count": 19,
     "metadata": {},
     "output_type": "execute_result"
    }
   ],
   "source": [
    "Image(url= \"27.png\",width=800)"
   ]
  },
  {
   "cell_type": "code",
   "execution_count": 29,
   "metadata": {},
   "outputs": [
    {
     "name": "stdout",
     "output_type": "stream",
     "text": [
      "[(['are', 'We', 'to', 'study'], 'about'), (['about', 'are', 'study', 'the'], 'to'), (['to', 'about', 'the', 'idea'], 'study'), (['study', 'to', 'idea', 'of'], 'the'), (['the', 'study', 'of', 'a'], 'idea')]\n"
     ]
    }
   ],
   "source": [
    "CONTEXT_SIZE = 2  # 2 words to the left, 2 to the right\n",
    "raw_text = \"\"\"We are about to study the idea of a computational process.\n",
    "Computational processes are abstract beings that inhabit computers.\n",
    "As they evolve, processes manipulate other abstract things called data.\n",
    "The evolution of a process is directed by a pattern of rules\n",
    "called a program. People create programs to direct processes. In effect,\n",
    "we conjure the spirits of the computer with our spells.\"\"\".split()\n",
    "\n",
    "# By deriving a set from `raw_text`, we deduplicate the array\n",
    "vocab = set(raw_text)\n",
    "vocab_size = len(vocab)\n",
    "\n",
    "word_to_ix = {word: i for i, word in enumerate(vocab)}\n",
    "data = []\n",
    "for i in range(CONTEXT_SIZE, len(raw_text) - CONTEXT_SIZE):\n",
    "    context = (\n",
    "        [raw_text[i - j - 1] for j in range(CONTEXT_SIZE)]\n",
    "        + [raw_text[i + j + 1] for j in range(CONTEXT_SIZE)]\n",
    "    )\n",
    "    target = raw_text[i]\n",
    "    data.append((context, target))\n",
    "print(data[:5])\n"
   ]
  },
  {
   "cell_type": "code",
   "execution_count": null,
   "metadata": {},
   "outputs": [],
   "source": []
  },
  {
   "cell_type": "markdown",
   "metadata": {},
   "source": [
    "## 位置编码\n",
    "\n",
    "以前的方法-表格型\n",
    "\n",
    "* 方法一：使用[0,1]范围分配\n",
    "\n",
    "这个方法的分配方式是，将0-1这个范围的，将第一个token分配0，最后一个token分配去1，其余的token按照文章的长度平均分配。具体形式如下：\n",
    "\n",
    "我喜欢吃洋葱 【0 0.16 0.32.....1】\n",
    "\n",
    "我真的不喜欢吃洋葱【0 0.125 0.25.....1】\n",
    "\n",
    "问题：我们可以看到，如果句子长度不同，那么位置编码是不一样，所以无法表示句子之间有什么相似性。\n",
    "\n",
    "* 方法二：1-n正整数范围分配\n",
    "\n",
    "这个方法比较直观，就是按照输入的顺序，一次分配给token所在的索引位置。具体形式如下：\n",
    "\n",
    "我喜欢吃洋葱 【1，2，3，4，5，6】\n",
    "\n",
    "我真的不喜欢吃洋葱【1，2，3，4，5，6，7】\n",
    "\n",
    "问题：往往句子越长，后面的值越大，数字越大说明这个位置占的权重也越大，这样的方式无法凸显每个位置的真实的权重。\n",
    "\n",
    "\n",
    "https://www.cnblogs.com/ghj1976/p/li-jietransformer-de-wei-zhi-bian-ma.html\n",
    "\n",
    "https://blog.csdn.net/Kaiyuan_sjtu/article/details/119621613"
   ]
  },
  {
   "cell_type": "code",
   "execution_count": 24,
   "metadata": {},
   "outputs": [
    {
     "data": {
      "text/html": [
       "<img src=\"31.jpg\" width=\"800\"/>"
      ],
      "text/plain": [
       "<IPython.core.display.Image object>"
      ]
     },
     "execution_count": 24,
     "metadata": {},
     "output_type": "execute_result"
    }
   ],
   "source": [
    "Image(url= \"31.jpg\",width=800)"
   ]
  },
  {
   "cell_type": "code",
   "execution_count": 23,
   "metadata": {},
   "outputs": [
    {
     "data": {
      "text/html": [
       "<img src=\"32.jpg\" width=\"800\"/>"
      ],
      "text/plain": [
       "<IPython.core.display.Image object>"
      ]
     },
     "execution_count": 23,
     "metadata": {},
     "output_type": "execute_result"
    }
   ],
   "source": [
    "Image(url= \"32.jpg\",width=800)"
   ]
  },
  {
   "cell_type": "markdown",
   "metadata": {},
   "source": [
    "### Transformer算法中的位置编码与其他方法的比较（chatgpt）\n",
    "\n",
    "Transformer算法中的位置编码(Positional Encoding)与RNN、LSTM中处理位置信息的方法有以下不同:\n",
    "\n",
    "1. Transformer的位置编码利用正弦、余弦函数将位置信息编码到词向量中,使模型对相对距离高度敏感。\n",
    "\n",
    "2. RNN、LSTM通过序列传递隐状态的方式来表示位置信息,位置信息被编码在隐状态中。\n",
    "\n",
    "3. 位置编码可以完全并行计算,计算效率更高。RNN、LSTM的顺序计算方式计算效率较低。\n",
    "\n",
    "4. 位置编码为模型带来一定的位置不变性,使模型对位置信息稍有变化更鲁棒。RNN和LSTM对位置变化更敏感。\n",
    "\n",
    "5. 通过周期性函数,位置编码使模型更好地学习到位置信息,相比RNN、LSTM直接使用位置索引更有效。\n",
    "\n",
    "6. 位置编码避免了位置信息过于绝对化,对位置稍有变化更加鲁棒。RNN和LSTM位置信息较为绝对。\n",
    "\n",
    "7. RNN、LSTM隐状态囊括了所有历史信息,计算资源利用率不高且训练难度较大。位置编码只编码位置,节省资源。\n",
    "\n",
    "综上,位置编码与RNN、LSTM顺序信息表示方法有不同优点。前者计算效率更高,对位置稍有偏移更鲁棒,是Transformer理解语序的关键。\n",
    "\n",
    "Transformer算法中的位置编码(Positional Encoding)与RNN、LSTM处理顺序信息的方法具有以下优缺点:\n",
    "\n",
    "**位置编码的优点:**\n",
    "\n",
    "- 计算效率高,可以完全并行\n",
    "- 为模型带来一定位置不变性,对小的位置变化更鲁棒\n",
    "- 使用周期函数,使模型更好地学习位置信息\n",
    "- 避免位置信息过于绝对化\n",
    "- 较RNN和LSTM更简单,只编码位置信息\n",
    "\n",
    "**位置编码的缺点:**\n",
    "\n",
    "- 需要设置最大序列长度,长度过长会导致计算复杂度提升\n",
    "- 仅编码相对位置,无法表示绝对位置\n",
    "- 对语序变化不如RNN等顺序敏感\n",
    "- 需搭配注意力机制,单独使用效果较弱\n",
    "\n",
    "**RNN和LSTM的优点:** \n",
    "\n",
    "- 可以表示绝对位置信息\n",
    "- 对语序变化更敏感\n",
    "- LSTM可以捕捉长程依赖关系\n",
    "\n",
    "**RNN和LSTM的缺点:**\n",
    "\n",
    "- 计算复杂度高,无法并行计算\n",
    "- 对位置信息过于敏感\n",
    "- 隐状态编码了所有历史,计算资源利用率低\n",
    "\n",
    "总之,位置编码更高效并具有一定位置鲁棒性,但RNN和LSTM可以建模绝对位置并对语序更敏感。两者互补的特点可根据任务需求进行选择。"
   ]
  },
  {
   "cell_type": "code",
   "execution_count": 27,
   "metadata": {},
   "outputs": [
    {
     "name": "stdout",
     "output_type": "stream",
     "text": [
      "[[ 0.00000000e+00  1.00000000e+00  0.00000000e+00 ...  1.00000000e+00\n",
      "   0.00000000e+00  1.00000000e+00]\n",
      " [ 8.41470985e-01  5.40302306e-01  7.61720408e-01 ...  9.99999991e-01\n",
      "   1.15478198e-04  9.99999993e-01]\n",
      " [ 9.09297427e-01 -4.16146837e-01  9.87046251e-01 ...  9.99999964e-01\n",
      "   2.30956395e-04  9.99999973e-01]\n",
      " ...\n",
      " [ 1.23573123e-01 -9.92335469e-01  1.39920673e-01 ...  9.99980359e-01\n",
      "   5.42744868e-03  9.99985271e-01]\n",
      " [-7.68254661e-01 -6.40144339e-01 -6.63571724e-01 ...  9.99979514e-01\n",
      "   5.54292514e-03  9.99984638e-01]\n",
      " [-9.53752653e-01  3.00592544e-01 -9.99784705e-01 ...  9.99978652e-01\n",
      "   5.65840153e-03  9.99983991e-01]]\n"
     ]
    },
    {
     "data": {
      "image/png": "[encoded data removed]",
      "text/plain": [
       "<Figure size 1228.8x480 with 2 Axes>"
      ]
     },
     "metadata": {},
     "output_type": "display_data"
    }
   ],
   "source": [
    "import numpy as np\n",
    "import matplotlib.pyplot as plot\n",
    "\n",
    "def getPositionEncoding(seq_len,dim,n=10000):\n",
    "  PE = np.zeros(shape=(seq_len,dim))\n",
    "  for pos in range(seq_len):\n",
    "    for i in range(int(dim/2)):\n",
    "      denominator = np.power(n, 2*i/dim)\n",
    "      PE[pos,2*i] = np.sin(pos/denominator)\n",
    "      PE[pos,2*i+1] = np.cos(pos/denominator)\n",
    "\n",
    "  return PE\n",
    "\n",
    "PE = getPositionEncoding(seq_len=50, dim=128, n=10000)\n",
    "print(PE)\n",
    "\n",
    "caxes = plot.matshow(PE,interpolation ='nearest')\n",
    "plot.colorbar(caxes) \n",
    "plot.show()"
   ]
  },
  {
   "cell_type": "markdown",
   "metadata": {},
   "source": [
    "* transformer中的实现\n",
    "\n",
    "https://blog.csdn.net/qq_52785473/article/details/124537101\n",
    "\n",
    "\n",
    "1. unsqueeze\n",
    "\n",
    "2. Dropout"
   ]
  },
  {
   "cell_type": "code",
   "execution_count": 35,
   "metadata": {},
   "outputs": [
    {
     "name": "stdout",
     "output_type": "stream",
     "text": [
      "torch.Size([4])\n",
      "1\n",
      "[1. 2. 3. 4.]\n",
      "tensor([[1., 2., 3., 4.]])\n",
      "torch.Size([1, 4])\n",
      "2\n",
      "[[1. 2. 3. 4.]]\n",
      "tensor([[1.],\n",
      "        [2.],\n",
      "        [3.],\n",
      "        [4.]])\n",
      "torch.Size([4, 1])\n",
      "2\n"
     ]
    },
    {
     "ename": "",
     "evalue": "",
     "output_type": "error",
     "traceback": [
      "\u001b[1;31m在当前单元格或上一个单元格中执行代码时 Kernel 崩溃。请查看单元格中的代码，以确定故障的可能原因。有关详细信息，请单击 <a href='https://aka.ms/vscodeJupyterKernelCrash'>此处</a>。有关更多详细信息，请查看 Jupyter <a href='command:jupyter.viewOutput'>log</a>。"
     ]
    }
   ],
   "source": [
    "# unsqueeze函数使用案例\n",
    "x = torch.Tensor([1,2,3,4]) #torch.Tensor是默认的tensor类型\n",
    "print(x.size())  # torch.Size([4])\n",
    "print(x.dim())  # dimension的个数为1\n",
    "print(x.numpy())  # [1. 2. 3. 4.]\n",
    "\n",
    "print(torch.unsqueeze(x, 0))  # tensor([[1., 2., 3., 4.]])\n",
    "######  等价于torch.unsqueeze(x,-2) ######\n",
    "print(torch.unsqueeze(x, 0).size())  # torch.Size([1, 4])\n",
    "print(torch.unsqueeze(x, 0).dim())  # dimension的个数为2\n",
    "print(torch.unsqueeze(x, 0).numpy())  # [[1. 2. 3. 4.]]\n",
    "\n",
    "print(torch.unsqueeze(x, 1))\n",
    "###### 等价于torch.unsqueeze(x,-1)  ######\n",
    "# tensor([[1.],\n",
    "#         [2.],\n",
    "#         [3.],\n",
    "#         [4.]])\n",
    "print(torch.unsqueeze(x, 1).size())  # torch.Size([4, 1])\n",
    "print(torch.unsqueeze(x, 1).dim())  # dimension的个数为2"
   ]
  },
  {
   "cell_type": "code",
   "execution_count": 25,
   "metadata": {},
   "outputs": [
    {
     "name": "stdout",
     "output_type": "stream",
     "text": [
      "tensor([ 1.5934,  1.1530,  1.5504,  0.3990,  0.2831, -1.0402,  1.6277, -0.1046,\n",
      "         0.8334,  0.4784, -2.1325, -1.5482,  0.9300, -0.4636,  0.6696, -0.1754])\n",
      "tensor([ 1.9917,  1.4412,  1.9380,  0.4987,  0.3539, -1.3002,  2.0346, -0.1308,\n",
      "         0.0000,  0.5980, -2.6656, -1.9353,  1.1625, -0.5795,  0.8370, -0.0000])\n"
     ]
    }
   ],
   "source": [
    "# Dropout函数\n",
    "m = nn.Dropout(p=0.2)\n",
    " input = torch.randn(20, 16)\n",
    " output = m(input)\n",
    "\n",
    " print(input[0])\n",
    " print(output[0])"
   ]
  },
  {
   "cell_type": "code",
   "execution_count": 4,
   "metadata": {},
   "outputs": [],
   "source": [
    "class PositionalEncoding(nn.Module):\n",
    "    def __init__(self, d_model, dropout, max_len=5000):\n",
    "    # d_model:词嵌入维度\n",
    "    # dropout:置零比率\n",
    "    # max_len:每个句子最大的长度\n",
    "        super(PositionalEncoding, self).__init__()\n",
    "        self.dropout = nn.Dropout(p=dropout)\n",
    "        pe = torch.zeros(max_len, d_model)\n",
    "        position = torch.arange(0,  max_len).unsqueeze(1)\n",
    "        div_term = torch.exp(torch.arange(0, d_model, 2) * -(math.log(1000.0) / d_model))\n",
    "        pe[:, 0::2] = torch.sin(position * div_term)\n",
    "        pe[:, 1::2] = torch.cos(position * div_term)\n",
    "        pe = pe.unsqueeze(0)\n",
    "        self.register_buffer(\"pe\", pe)\n",
    "\n",
    "    def forward(self, x):\n",
    "        x = x + Variable(self.pe[:, :x.size(1)], requires_grad=False)\n",
    "        return self.dropout(x)\n"
   ]
  },
  {
   "cell_type": "code",
   "execution_count": 17,
   "metadata": {},
   "outputs": [
    {
     "data": {
      "text/plain": [
       "tensor([[0],\n",
       "        [1],\n",
       "        [2],\n",
       "        [3],\n",
       "        [4],\n",
       "        [5]])"
      ]
     },
     "execution_count": 17,
     "metadata": {},
     "output_type": "execute_result"
    }
   ],
   "source": [
    "torch.arange(0,  6).unsqueeze(1)"
   ]
  },
  {
   "cell_type": "code",
   "execution_count": 26,
   "metadata": {},
   "outputs": [
    {
     "name": "stdout",
     "output_type": "stream",
     "text": [
      "torch.Size([2, 4, 512])\n"
     ]
    }
   ],
   "source": [
    "dropout = 0.1\n",
    "max_len = 60\n",
    "pe = PositionalEncoding(d_model, dropout, max_len)\n",
    "pe_result = pe(embr)\n",
    "print(pe_result.shape)"
   ]
  },
  {
   "cell_type": "code",
   "execution_count": 29,
   "metadata": {},
   "outputs": [],
   "source": [
    "#pe_result"
   ]
  },
  {
   "cell_type": "code",
   "execution_count": 27,
   "metadata": {},
   "outputs": [
    {
     "data": {
      "text/plain": [
       "<matplotlib.legend.Legend at 0x203ade30730>"
      ]
     },
     "execution_count": 27,
     "metadata": {},
     "output_type": "execute_result"
    },
    {
     "data": {
      "image/png": "[encoded data removed]",
      "text/plain": [
       "<Figure size 1500x500 with 1 Axes>"
      ]
     },
     "metadata": {},
     "output_type": "display_data"
    }
   ],
   "source": [
    "plt.figure(figsize=(15, 5))\n",
    "pe = PositionalEncoding(20, 0)\n",
    "# 传入全0参数，相当于展示位置编码\n",
    "y = pe(Variable(torch.zeros(1, 100, 20)))\n",
    "plt.plot(np.arange(100), y[0, :, 4:8].data.numpy())\n",
    "plt.legend([\"dim %d\" %p for p in [4, 5, 6, 7]])"
   ]
  }
 ],
 "metadata": {
  "kernelspec": {
   "display_name": "Python 3 (ipykernel)",
   "language": "python",
   "name": "python3"
  },
  "language_info": {
   "codemirror_mode": {
    "name": "ipython",
    "version": 3
   },
   "file_extension": ".py",
   "mimetype": "text/x-python",
   "name": "python",
   "nbconvert_exporter": "python",
   "pygments_lexer": "ipython3",
   "version": "3.9.16"
  }
 },
 "nbformat": 4,
 "nbformat_minor": 2
}
